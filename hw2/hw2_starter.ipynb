{
 "cells": [
  {
   "cell_type": "markdown",
   "metadata": {},
   "source": [
    "# DATA203 Foundational Python (Prof. Maull) / Spring 2025 / HW2"
   ]
  },
  {
   "cell_type": "markdown",
   "metadata": {},
   "source": [
    "| Points <br/>Possible | Due Date | Time Commitment <br/>(estimated) |\n",
    "|:---------------:|:--------:|:---------------:|\n",
    "| None | Sunday, April 13 | _up to_ 10 hours |\n",
    "\n",
    "\n",
    "* **GRADING:** Grading will be aligned with the completeness of the objectives.\n",
    "\n",
    "* **INDEPENDENT WORK:** Copying, cheating, plagiarism  and academic dishonesty _are not tolerated_ by University or course policy.  Please see the syllabus for the full departmental and University statement on the academic code of honor.\n",
    "\n",
    "## OBJECTIVES\n",
    "* Practice writing functions.\n",
    "\n",
    "* Finding prime numbers.\n",
    "\n",
    "* Printing patterns with loops.\n",
    "\n",
    "## WHAT TO TURN IN\n",
    "You are being encouraged to turn the assignment in using the provided\n",
    "Jupyter Notebook.  To do so, make a directory in your Lab environment called\n",
    "`homework/hw1`.   Put all of your files in that directory.  Then zip or tar that directory,\n",
    "rename it with your name as the first part of the filename (e.g. `maull_hw1_files.zip`, `maull_hw1_files.tar.gz`), then\n",
    "download it to your local machine, then upload the `.zip` to Canvas.\n",
    "\n",
    "If you do not know how to do this, please ask, or visit one of the many tutorials out there\n",
    "on the basics of using zip in Linux.  \n",
    "\n",
    "If you choose not to use the provided notebook, you will still need to turn in a\n",
    "`.ipynb` Jupyter Notebook and corresponding files according to the instructions in\n",
    "this homework."
   ]
  },
  {
   "cell_type": "markdown",
   "metadata": {},
   "source": [
    "## ASSIGNMENT TASKS\n",
    "### (20%) Practice writing functions. \n",
    "\n",
    "\n",
    "We can all use a little more practice\n",
    "writing functions in Python, so here\n",
    "we go.\n",
    "\n",
    "**&#167; Task:**  **Write a function to the find the largest number from a list of arbitrary size.**\n",
    "\n",
    "\n",
    "This should be very straightforward, but remember:\n",
    "\n",
    "1. you will need to _keep track_ of the largest number you have seen, thus\n",
    "  a loop will be your friend and a variable, say `max_n` to store\n",
    "  the largest seen so far,\n",
    "\n",
    "2. don't overthink it, you only need one loop and some conditional logic to\n",
    "  check the current number in the loop."
   ]
  },
  {
   "cell_type": "code",
   "execution_count": null,
   "metadata": {
    "tags": []
   },
   "outputs": [],
   "source": [
    "### STARTER CODE\n",
    "def largest_num(nums):\n",
    "    pass\n",
    "    ### IMPLEMENT YOUR CODE"
   ]
  },
  {
   "cell_type": "code",
   "execution_count": null,
   "metadata": {
    "tags": []
   },
   "outputs": [],
   "source": [
    "### TEST YOUR CODE\n",
    "largest_num([21, 38, 39, 5, 90, 45, 30, 79, 25, 98])"
   ]
  },
  {
   "cell_type": "code",
   "execution_count": null,
   "metadata": {
    "tags": []
   },
   "outputs": [],
   "source": [
    "### TEST YOUR CODE\n",
    "largest_num(\n",
    "    [347,\n",
    "     474,\n",
    "     322,\n",
    "     469,\n",
    "     211,\n",
    "     264,\n",
    "     308,\n",
    "     474,\n",
    "     332,\n",
    "     414,\n",
    "     455,\n",
    "     352,\n",
    "     351,\n",
    "     480,\n",
    "     265,\n",
    "     311,\n",
    "     356,\n",
    "     497,\n",
    "     322,\n",
    "     252])"
   ]
  },
  {
   "cell_type": "code",
   "execution_count": null,
   "metadata": {
    "tags": []
   },
   "outputs": [],
   "source": [
    "### TEST YOUR CODE\n",
    "largest_num(\n",
    "    [3904,\n",
    "     4769,\n",
    "     706,\n",
    "     1740,\n",
    "     1973,\n",
    "     3951,\n",
    "     2487,\n",
    "     2005,\n",
    "     3960,\n",
    "     470,\n",
    "     1198,\n",
    "     2322,\n",
    "     2446,\n",
    "     3523,\n",
    "     2235])"
   ]
  },
  {
   "cell_type": "markdown",
   "metadata": {},
   "source": [
    "### (50%) Finding prime numbers. \n",
    "\n",
    "\n",
    "Prime numbers are interesting for a wide array of reasons\n",
    "(some practical, some purely mathematical), but\n",
    "as a reminder, a _prime number_ is a number which is only divisible \n",
    "but 1 and itself.  Common small primes we know, love and\n",
    "interact with everyday are 3, 7, 13, 41, 53.  It should\n",
    "be noted _finding_ large primes is hard work, and not something\n",
    "we will do with this assignment.\n",
    "\n",
    "For example, _do you know if the number 1137 is prime_?\n",
    "\n",
    "**&#167; Task:**  **Write a function that takes two parameters _a_ and _b_ and returns the list of all primes between _a_ and _b_.**\n",
    "\n",
    "You will need to use the `is_prime()` function provided in \n",
    "the starter notebook:\n",
    "\n",
    "You will write finish the function that takes two numbers (_a_, _b_)\n",
    "and returns all the prime numbers in between them.  Assume\n",
    "the first number is smaller than the second, and that\n",
    "they are both non-negative (greater than 0).\n",
    "\n",
    "**Remember:**\n",
    "\n",
    "1. you will need to loop through all the numbers between _a_ and _b_,\n",
    "1. `range` can be used here and might save you time,\n",
    "2. if a number is even (divisible by 2: hint if you use modulus \n",
    "  operator `8 % 2` is 0 meaning\n",
    "  that 8 is even or that the remainder when divided by 2 is 0), \n",
    "  it will NEVER be prime, so there is no need to run `is_prime()`,\n",
    "3. don't overthink this, but remember, you will need to _store_ the\n",
    "  prime numbers you find in a list and _return_ that list.\n",
    "\n",
    "Use the `find_all_primes(a, b)` starter code\n",
    "below to get you started."
   ]
  },
  {
   "cell_type": "code",
   "execution_count": null,
   "metadata": {
    "tags": []
   },
   "outputs": [],
   "source": [
    "### PRIME FUNCTION DO NO EDIT\n",
    "def is_prime(n):\n",
    "    import math\n",
    "    if n <= 1:\n",
    "        return False\n",
    "    else:\n",
    "        is_prime = True\n",
    "        for i in range(2, int(math.sqrt(n)) + 1):\n",
    "            if n % i == 0:\n",
    "                is_prime = False\n",
    "                break\n",
    "        return is_prime\n"
   ]
  },
  {
   "cell_type": "code",
   "execution_count": null,
   "metadata": {
    "tags": []
   },
   "outputs": [],
   "source": [
    "### STARTER FUNCTION\n",
    "def find_all_primes(a, b):\n",
    "  primes_found = []\n",
    "\n",
    "  ## COMPLETE the solution code to add primes to primes_found\n",
    "\n",
    "  return primes_found "
   ]
  },
  {
   "cell_type": "code",
   "execution_count": null,
   "metadata": {},
   "outputs": [],
   "source": [
    "### TEST YOUR CODE \n",
    "find_all_primes(1,10)"
   ]
  },
  {
   "cell_type": "code",
   "execution_count": null,
   "metadata": {},
   "outputs": [],
   "source": [
    "### TEST YOUR CODE \n",
    "find_all_primes(101,140)"
   ]
  },
  {
   "cell_type": "code",
   "execution_count": null,
   "metadata": {},
   "outputs": [],
   "source": [
    "### TEST YOUR CODE \n",
    "find_all_primes(1100,1200)"
   ]
  },
  {
   "cell_type": "code",
   "execution_count": null,
   "metadata": {},
   "outputs": [],
   "source": [
    "### TEST YOUR CODE \n",
    "find_all_primes(10000,10050)"
   ]
  },
  {
   "cell_type": "markdown",
   "metadata": {},
   "source": [
    "### (30%) Printing patterns with loops. \n",
    "\n",
    "This is a fun exercise to close out our work with loops.\n",
    "\n",
    "Here is what you will need to keep in mind:\n",
    "\n",
    "1. there are 9 rows, the longest row is 5,\n",
    "2. a loop that increments by one will get you the first half,\n",
    "3. decrementing this will give you the second half.\n",
    "\n",
    "You will need to use at least one loop, but a nested loop might be useful.\n",
    "\n",
    "Use the cell provided and write the function named `print_text_triangle()`.\n",
    "The function does NOT return anything, it merely prints the triangle.\n",
    "\n",
    "**&#167; Task:**  **Write a Python function to print the following pattern.**\n",
    "\n",
    "```\n",
    "  * \n",
    "  * * \n",
    "  * * * \n",
    "  * * * * \n",
    "  * * * * * \n",
    "  * * * * \n",
    "  * * * \n",
    "  * * \n",
    "  *\n",
    "```"
   ]
  },
  {
   "cell_type": "code",
   "execution_count": null,
   "metadata": {
    "tags": []
   },
   "outputs": [],
   "source": [
    "def print_text_triangle():\n",
    "    pass\n",
    "    ### IMPLEMENT YOUR SOLUTION HERE"
   ]
  },
  {
   "cell_type": "code",
   "execution_count": null,
   "metadata": {},
   "outputs": [],
   "source": []
  }
 ],
 "metadata": {
  "anaconda-cloud": {},
  "kernelspec": {
   "display_name": "Python 3 (ipykernel)",
   "language": "python",
   "name": "python3"
  },
  "language_info": {
   "codemirror_mode": {
    "name": "ipython",
    "version": 3
   },
   "file_extension": ".py",
   "mimetype": "text/x-python",
   "name": "python",
   "nbconvert_exporter": "python",
   "pygments_lexer": "ipython3",
   "version": "3.11.4"
  },
  "toc": {
   "colors": {
    "hover_highlight": "#DAA520",
    "navigate_num": "#000000",
    "navigate_text": "#333333",
    "running_highlight": "#FF0000",
    "selected_highlight": "#FFD700",
    "sidebar_border": "#EEEEEE",
    "wrapper_background": "#FFFFFF"
   },
   "moveMenuLeft": true,
   "nav_menu": {
    "height": "12px",
    "width": "252px"
   },
   "navigate_menu": true,
   "number_sections": false,
   "sideBar": true,
   "threshold": "1",
   "toc_cell": false,
   "toc_section_display": "block",
   "toc_window_display": true,
   "widenNotebook": false
  }
 },
 "nbformat": 4,
 "nbformat_minor": 4
}
