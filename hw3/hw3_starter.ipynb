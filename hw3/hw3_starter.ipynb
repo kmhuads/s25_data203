{
 "cells": [
  {
   "cell_type": "markdown",
   "id": "e8404b56-c550-411c-9882-eeab2ef8becc",
   "metadata": {},
   "source": [
    "# PART I:  (30%) Practice using Pandas for data extraction. \n",
    "\n"
   ]
  },
  {
   "cell_type": "markdown",
   "id": "d19e7d98-8696-4fea-a6ee-38b5d818d645",
   "metadata": {},
   "source": [
    "**&#167; Task:**  **Retrieve data from a repository using Pandas.**\n",
    "\n",
    "In class lecture, we talked about using URLs to \n",
    "call the Dataframe function [`pandas.read_csv()`](https://pandas.pydata.org/pandas-docs/stable/reference/api/pandas.read_csv.html).\n",
    "\n",
    "You will use that function and place data into a DataFrame for each day in your station\n",
    "for you last name group listed above."
   ]
  },
  {
   "cell_type": "code",
   "execution_count": 1,
   "id": "fd84c4ce-db51-4836-8e01-27600147fb32",
   "metadata": {},
   "outputs": [],
   "source": [
    "import pandas as pd"
   ]
  },
  {
   "cell_type": "code",
   "execution_count": 2,
   "id": "29443f07-bb22-4041-be76-1dd75ba9ac9b",
   "metadata": {},
   "outputs": [],
   "source": [
    "df = pd.read_csv(\n",
    "    \"https://cfl-code.cis240485.projects.jetstream-cloud.org:3000/kmaull/spring25_data/raw/branch/main/data/cfl001/20250415_cfl001.csv\",\n",
    "    header=None,\n",
    "    names=['idx', 'device', 'sensor','m','t']\n",
    ")"
   ]
  },
  {
   "cell_type": "markdown",
   "id": "9f131528-59ee-40cb-9d15-09bd3569d68a",
   "metadata": {},
   "source": [
    "**&#167; Task:**  **Combine multiple files into one large Dataframe.**\n",
    "\n",
    "From the first task, use the Pandas [`pandas.concat()`](https://pandas.pydata.org/pandas-docs/stable/reference/api/pandas.concat.html)\n",
    "to combine all files **in your group** into a single Dataframe.  \n",
    "\n",
    "There will be three files, and you should use a loop.\n",
    "\n",
    "Make sure they are in the order of their date retrieval."
   ]
  },
  {
   "cell_type": "markdown",
   "id": "d9210288-897f-479c-9101-547a895ff96c",
   "metadata": {},
   "source": [
    "### EXAMPLE"
   ]
  },
  {
   "cell_type": "code",
   "execution_count": 3,
   "id": "2894e16c-06f7-4b29-a59f-0b232b6b06a7",
   "metadata": {},
   "outputs": [
    {
     "data": {
      "text/html": [
       "<div>\n",
       "<style scoped>\n",
       "    .dataframe tbody tr th:only-of-type {\n",
       "        vertical-align: middle;\n",
       "    }\n",
       "\n",
       "    .dataframe tbody tr th {\n",
       "        vertical-align: top;\n",
       "    }\n",
       "\n",
       "    .dataframe thead th {\n",
       "        text-align: right;\n",
       "    }\n",
       "</style>\n",
       "<table border=\"1\" class=\"dataframe\">\n",
       "  <thead>\n",
       "    <tr style=\"text-align: right;\">\n",
       "      <th></th>\n",
       "      <th>idx</th>\n",
       "      <th>device</th>\n",
       "      <th>sensor</th>\n",
       "      <th>m</th>\n",
       "      <th>t</th>\n",
       "    </tr>\n",
       "  </thead>\n",
       "  <tbody>\n",
       "    <tr>\n",
       "      <th>0</th>\n",
       "      <td>158812</td>\n",
       "      <td>m5atom/esp32/cfl001</td>\n",
       "      <td>grove/i2c/pmsa003i/pm10standard</td>\n",
       "      <td>2.0</td>\n",
       "      <td>1744649659</td>\n",
       "    </tr>\n",
       "    <tr>\n",
       "      <th>1</th>\n",
       "      <td>158813</td>\n",
       "      <td>m5atom/esp32/cfl001</td>\n",
       "      <td>grove/i2c/pmsa003i/pm10standard</td>\n",
       "      <td>2.0</td>\n",
       "      <td>1744649659</td>\n",
       "    </tr>\n",
       "    <tr>\n",
       "      <th>2</th>\n",
       "      <td>158814</td>\n",
       "      <td>m5atom/esp32/cfl001</td>\n",
       "      <td>grove/i2c/pmsa003i/pm25standard</td>\n",
       "      <td>2.0</td>\n",
       "      <td>1744649660</td>\n",
       "    </tr>\n",
       "    <tr>\n",
       "      <th>3</th>\n",
       "      <td>158815</td>\n",
       "      <td>m5atom/esp32/cfl001</td>\n",
       "      <td>grove/i2c/pmsa003i/pm25standard</td>\n",
       "      <td>2.0</td>\n",
       "      <td>1744649660</td>\n",
       "    </tr>\n",
       "    <tr>\n",
       "      <th>4</th>\n",
       "      <td>158870</td>\n",
       "      <td>m5atom/esp32/cfl001</td>\n",
       "      <td>grove/i2c/pmsa003i/pm10standard</td>\n",
       "      <td>2.0</td>\n",
       "      <td>1744649742</td>\n",
       "    </tr>\n",
       "    <tr>\n",
       "      <th>0</th>\n",
       "      <td>158812</td>\n",
       "      <td>m5atom/esp32/cfl001</td>\n",
       "      <td>grove/i2c/pmsa003i/pm10standard</td>\n",
       "      <td>2.0</td>\n",
       "      <td>1744649659</td>\n",
       "    </tr>\n",
       "    <tr>\n",
       "      <th>1</th>\n",
       "      <td>158813</td>\n",
       "      <td>m5atom/esp32/cfl001</td>\n",
       "      <td>grove/i2c/pmsa003i/pm10standard</td>\n",
       "      <td>2.0</td>\n",
       "      <td>1744649659</td>\n",
       "    </tr>\n",
       "    <tr>\n",
       "      <th>2</th>\n",
       "      <td>158814</td>\n",
       "      <td>m5atom/esp32/cfl001</td>\n",
       "      <td>grove/i2c/pmsa003i/pm25standard</td>\n",
       "      <td>2.0</td>\n",
       "      <td>1744649660</td>\n",
       "    </tr>\n",
       "    <tr>\n",
       "      <th>3</th>\n",
       "      <td>158815</td>\n",
       "      <td>m5atom/esp32/cfl001</td>\n",
       "      <td>grove/i2c/pmsa003i/pm25standard</td>\n",
       "      <td>2.0</td>\n",
       "      <td>1744649660</td>\n",
       "    </tr>\n",
       "    <tr>\n",
       "      <th>4</th>\n",
       "      <td>158870</td>\n",
       "      <td>m5atom/esp32/cfl001</td>\n",
       "      <td>grove/i2c/pmsa003i/pm10standard</td>\n",
       "      <td>2.0</td>\n",
       "      <td>1744649742</td>\n",
       "    </tr>\n",
       "  </tbody>\n",
       "</table>\n",
       "</div>"
      ],
      "text/plain": [
       "      idx               device                           sensor    m  \\\n",
       "0  158812  m5atom/esp32/cfl001  grove/i2c/pmsa003i/pm10standard  2.0   \n",
       "1  158813  m5atom/esp32/cfl001  grove/i2c/pmsa003i/pm10standard  2.0   \n",
       "2  158814  m5atom/esp32/cfl001  grove/i2c/pmsa003i/pm25standard  2.0   \n",
       "3  158815  m5atom/esp32/cfl001  grove/i2c/pmsa003i/pm25standard  2.0   \n",
       "4  158870  m5atom/esp32/cfl001  grove/i2c/pmsa003i/pm10standard  2.0   \n",
       "0  158812  m5atom/esp32/cfl001  grove/i2c/pmsa003i/pm10standard  2.0   \n",
       "1  158813  m5atom/esp32/cfl001  grove/i2c/pmsa003i/pm10standard  2.0   \n",
       "2  158814  m5atom/esp32/cfl001  grove/i2c/pmsa003i/pm25standard  2.0   \n",
       "3  158815  m5atom/esp32/cfl001  grove/i2c/pmsa003i/pm25standard  2.0   \n",
       "4  158870  m5atom/esp32/cfl001  grove/i2c/pmsa003i/pm10standard  2.0   \n",
       "\n",
       "            t  \n",
       "0  1744649659  \n",
       "1  1744649659  \n",
       "2  1744649660  \n",
       "3  1744649660  \n",
       "4  1744649742  \n",
       "0  1744649659  \n",
       "1  1744649659  \n",
       "2  1744649660  \n",
       "3  1744649660  \n",
       "4  1744649742  "
      ]
     },
     "execution_count": 3,
     "metadata": {},
     "output_type": "execute_result"
    }
   ],
   "source": [
    "## THIS CODE TAKES THE FIRST 5 ROWS OF DF AND CONCATENATES ONTO ITSELF\n",
    "pd.concat([df.iloc[:5], df.iloc[:5]])"
   ]
  },
  {
   "cell_type": "markdown",
   "id": "3fa7841a-16bb-4203-b945-d2e6e12dfddb",
   "metadata": {},
   "source": [
    "Just remember, `concat()` takes a list od Dataframes!"
   ]
  },
  {
   "cell_type": "code",
   "execution_count": 4,
   "id": "9608f3c2-3d97-4b97-9f1d-ee2ee177c7a0",
   "metadata": {},
   "outputs": [],
   "source": [
    "## YOUR SOLUTION CODE GOES HERE"
   ]
  },
  {
   "cell_type": "markdown",
   "id": "b3290407-6d35-4299-81c5-2366416cb172",
   "metadata": {},
   "source": [
    "**&#167; Task:**  **Store the combined data in a single CSV file.**\n",
    "\n",
    "With a single Dataframe in hand, store\n",
    "that into a a file named `\"cflXXX_combined_data.csv\"`.\n",
    "\n",
    "Use the [`pandas.DataFrame.to_csv`](https://pandas.pydata.org/pandas-docs/stable/reference/api/pandas.DataFrame.to_csv.html) function."
   ]
  },
  {
   "cell_type": "code",
   "execution_count": 5,
   "id": "a3dcdc32-2b47-49f4-a883-841e4b3578a6",
   "metadata": {},
   "outputs": [],
   "source": [
    "## YOUR SOLUTION CODE GOES HERE"
   ]
  },
  {
   "cell_type": "markdown",
   "id": "ebb6a26b-75e4-4672-b772-4ce6319a9cbe",
   "metadata": {},
   "source": [
    "# PART II: (40%) Practice using Pandas for data engineering. \n"
   ]
  },
  {
   "cell_type": "markdown",
   "id": "8a846ff2-7463-44a4-9de7-79020f4f2f54",
   "metadata": {},
   "source": [
    "**&#167; Task:**  **Convert UNIX time to a time-date string.**\n",
    "\n",
    "Study:\n",
    "\n",
    "* [`pandas.to_datetime()`](https://pandas.pydata.org/pandas-docs/stable/reference/api/pandas.to_datetime.html), don't over think it!"
   ]
  },
  {
   "cell_type": "markdown",
   "id": "a1da9eba-339a-420f-8e8f-ea4a333ab5b2",
   "metadata": {},
   "source": [
    "### Example"
   ]
  },
  {
   "cell_type": "code",
   "execution_count": 6,
   "id": "69afae5f-0a63-43c6-846d-6ca73d041d4c",
   "metadata": {},
   "outputs": [
    {
     "data": {
      "text/plain": [
       "0   2025-04-14 16:54:19\n",
       "1   2025-04-14 16:54:19\n",
       "2   2025-04-14 16:54:20\n",
       "3   2025-04-14 16:54:20\n",
       "4   2025-04-14 16:55:42\n",
       "Name: t, dtype: datetime64[ns]"
      ]
     },
     "execution_count": 6,
     "metadata": {},
     "output_type": "execute_result"
    }
   ],
   "source": [
    "pd.to_datetime( df.iloc[:5]['t'], unit='s' ) # notice we are only selecting the first 5 rows"
   ]
  },
  {
   "cell_type": "code",
   "execution_count": 7,
   "id": "76390afc-4813-4856-b771-b50d30e4eed6",
   "metadata": {},
   "outputs": [],
   "source": [
    "### YOUR SOLUTION CODE GOES HERE"
   ]
  },
  {
   "cell_type": "markdown",
   "id": "0213c720-81db-48fa-813a-bc5a1d09016e",
   "metadata": {},
   "source": [
    "**&#167; Task:**  **Eliminate unneeded columns.**\n",
    "\n",
    "Study:\n",
    "\n",
    "* [`pandas.DataFrame.drop()`](https://pandas.pydata.org/pandas-docs/stable/reference/api/pandas.DataFrame.drop.html) &#8594; use the `axis=1` parameter\n",
    "* the unneeded columns are the first and second "
   ]
  },
  {
   "cell_type": "markdown",
   "id": "bfb2d3bc-7a6a-4893-b1c7-c912e3d79eb9",
   "metadata": {},
   "source": [
    "### Example\n",
    "\n",
    "Let's eliminate the `idx` column from `df`.  In the example, we will just use the first 5 rows to keep it simple."
   ]
  },
  {
   "cell_type": "code",
   "execution_count": 8,
   "id": "126c7448-3e82-4a1d-beaa-aff1ed0af62e",
   "metadata": {},
   "outputs": [
    {
     "data": {
      "text/html": [
       "<div>\n",
       "<style scoped>\n",
       "    .dataframe tbody tr th:only-of-type {\n",
       "        vertical-align: middle;\n",
       "    }\n",
       "\n",
       "    .dataframe tbody tr th {\n",
       "        vertical-align: top;\n",
       "    }\n",
       "\n",
       "    .dataframe thead th {\n",
       "        text-align: right;\n",
       "    }\n",
       "</style>\n",
       "<table border=\"1\" class=\"dataframe\">\n",
       "  <thead>\n",
       "    <tr style=\"text-align: right;\">\n",
       "      <th></th>\n",
       "      <th>idx</th>\n",
       "      <th>device</th>\n",
       "      <th>sensor</th>\n",
       "      <th>m</th>\n",
       "      <th>t</th>\n",
       "    </tr>\n",
       "  </thead>\n",
       "  <tbody>\n",
       "    <tr>\n",
       "      <th>0</th>\n",
       "      <td>158812</td>\n",
       "      <td>m5atom/esp32/cfl001</td>\n",
       "      <td>grove/i2c/pmsa003i/pm10standard</td>\n",
       "      <td>2.0</td>\n",
       "      <td>1744649659</td>\n",
       "    </tr>\n",
       "    <tr>\n",
       "      <th>1</th>\n",
       "      <td>158813</td>\n",
       "      <td>m5atom/esp32/cfl001</td>\n",
       "      <td>grove/i2c/pmsa003i/pm10standard</td>\n",
       "      <td>2.0</td>\n",
       "      <td>1744649659</td>\n",
       "    </tr>\n",
       "    <tr>\n",
       "      <th>2</th>\n",
       "      <td>158814</td>\n",
       "      <td>m5atom/esp32/cfl001</td>\n",
       "      <td>grove/i2c/pmsa003i/pm25standard</td>\n",
       "      <td>2.0</td>\n",
       "      <td>1744649660</td>\n",
       "    </tr>\n",
       "    <tr>\n",
       "      <th>3</th>\n",
       "      <td>158815</td>\n",
       "      <td>m5atom/esp32/cfl001</td>\n",
       "      <td>grove/i2c/pmsa003i/pm25standard</td>\n",
       "      <td>2.0</td>\n",
       "      <td>1744649660</td>\n",
       "    </tr>\n",
       "    <tr>\n",
       "      <th>4</th>\n",
       "      <td>158870</td>\n",
       "      <td>m5atom/esp32/cfl001</td>\n",
       "      <td>grove/i2c/pmsa003i/pm10standard</td>\n",
       "      <td>2.0</td>\n",
       "      <td>1744649742</td>\n",
       "    </tr>\n",
       "  </tbody>\n",
       "</table>\n",
       "</div>"
      ],
      "text/plain": [
       "      idx               device                           sensor    m  \\\n",
       "0  158812  m5atom/esp32/cfl001  grove/i2c/pmsa003i/pm10standard  2.0   \n",
       "1  158813  m5atom/esp32/cfl001  grove/i2c/pmsa003i/pm10standard  2.0   \n",
       "2  158814  m5atom/esp32/cfl001  grove/i2c/pmsa003i/pm25standard  2.0   \n",
       "3  158815  m5atom/esp32/cfl001  grove/i2c/pmsa003i/pm25standard  2.0   \n",
       "4  158870  m5atom/esp32/cfl001  grove/i2c/pmsa003i/pm10standard  2.0   \n",
       "\n",
       "            t  \n",
       "0  1744649659  \n",
       "1  1744649659  \n",
       "2  1744649660  \n",
       "3  1744649660  \n",
       "4  1744649742  "
      ]
     },
     "execution_count": 8,
     "metadata": {},
     "output_type": "execute_result"
    }
   ],
   "source": [
    "df.iloc[:5] # display the first 5 rows"
   ]
  },
  {
   "cell_type": "code",
   "execution_count": 9,
   "id": "65047f0d-3e15-47f8-887b-ce405cf54882",
   "metadata": {},
   "outputs": [
    {
     "data": {
      "text/html": [
       "<div>\n",
       "<style scoped>\n",
       "    .dataframe tbody tr th:only-of-type {\n",
       "        vertical-align: middle;\n",
       "    }\n",
       "\n",
       "    .dataframe tbody tr th {\n",
       "        vertical-align: top;\n",
       "    }\n",
       "\n",
       "    .dataframe thead th {\n",
       "        text-align: right;\n",
       "    }\n",
       "</style>\n",
       "<table border=\"1\" class=\"dataframe\">\n",
       "  <thead>\n",
       "    <tr style=\"text-align: right;\">\n",
       "      <th></th>\n",
       "      <th>device</th>\n",
       "      <th>sensor</th>\n",
       "      <th>m</th>\n",
       "      <th>t</th>\n",
       "    </tr>\n",
       "  </thead>\n",
       "  <tbody>\n",
       "    <tr>\n",
       "      <th>0</th>\n",
       "      <td>m5atom/esp32/cfl001</td>\n",
       "      <td>grove/i2c/pmsa003i/pm10standard</td>\n",
       "      <td>2.0</td>\n",
       "      <td>1744649659</td>\n",
       "    </tr>\n",
       "    <tr>\n",
       "      <th>1</th>\n",
       "      <td>m5atom/esp32/cfl001</td>\n",
       "      <td>grove/i2c/pmsa003i/pm10standard</td>\n",
       "      <td>2.0</td>\n",
       "      <td>1744649659</td>\n",
       "    </tr>\n",
       "    <tr>\n",
       "      <th>2</th>\n",
       "      <td>m5atom/esp32/cfl001</td>\n",
       "      <td>grove/i2c/pmsa003i/pm25standard</td>\n",
       "      <td>2.0</td>\n",
       "      <td>1744649660</td>\n",
       "    </tr>\n",
       "    <tr>\n",
       "      <th>3</th>\n",
       "      <td>m5atom/esp32/cfl001</td>\n",
       "      <td>grove/i2c/pmsa003i/pm25standard</td>\n",
       "      <td>2.0</td>\n",
       "      <td>1744649660</td>\n",
       "    </tr>\n",
       "    <tr>\n",
       "      <th>4</th>\n",
       "      <td>m5atom/esp32/cfl001</td>\n",
       "      <td>grove/i2c/pmsa003i/pm10standard</td>\n",
       "      <td>2.0</td>\n",
       "      <td>1744649742</td>\n",
       "    </tr>\n",
       "  </tbody>\n",
       "</table>\n",
       "</div>"
      ],
      "text/plain": [
       "                device                           sensor    m           t\n",
       "0  m5atom/esp32/cfl001  grove/i2c/pmsa003i/pm10standard  2.0  1744649659\n",
       "1  m5atom/esp32/cfl001  grove/i2c/pmsa003i/pm10standard  2.0  1744649659\n",
       "2  m5atom/esp32/cfl001  grove/i2c/pmsa003i/pm25standard  2.0  1744649660\n",
       "3  m5atom/esp32/cfl001  grove/i2c/pmsa003i/pm25standard  2.0  1744649660\n",
       "4  m5atom/esp32/cfl001  grove/i2c/pmsa003i/pm10standard  2.0  1744649742"
      ]
     },
     "execution_count": 9,
     "metadata": {},
     "output_type": "execute_result"
    }
   ],
   "source": [
    "df.iloc[:5].drop('idx', axis=1)"
   ]
  },
  {
   "cell_type": "markdown",
   "id": "aa1fe68f-2099-4533-bea0-0ac3515f42fe",
   "metadata": {},
   "source": [
    "**REMEMBER:** To store the new dataframe, we will need to do something like this:\n",
    "\n",
    "```python\n",
    "\n",
    "df_reduced = df.iloc[:5].drop('idx', axis=1)"
   ]
  },
  {
   "cell_type": "markdown",
   "id": "55080aa9-92d6-40df-9b5b-cef21dc4d63c",
   "metadata": {},
   "source": [
    "**&#167; Task:**  **Filter the remaining data to only include PM25 ENV data points.**\n",
    "\n",
    "* Study [`pandas.Dataframe.query()`](https://pandas.pydata.org/pandas-docs/stable/reference/api/pandas.DataFrame.query.html) and see the examples in the notebook\n",
    "* store the filtered Dataframe into a new one called `df_filtered`"
   ]
  },
  {
   "cell_type": "code",
   "execution_count": 10,
   "id": "c8a7e819-fcbb-44c3-b595-fe9b44285806",
   "metadata": {},
   "outputs": [
    {
     "data": {
      "text/html": [
       "<div>\n",
       "<style scoped>\n",
       "    .dataframe tbody tr th:only-of-type {\n",
       "        vertical-align: middle;\n",
       "    }\n",
       "\n",
       "    .dataframe tbody tr th {\n",
       "        vertical-align: top;\n",
       "    }\n",
       "\n",
       "    .dataframe thead th {\n",
       "        text-align: right;\n",
       "    }\n",
       "</style>\n",
       "<table border=\"1\" class=\"dataframe\">\n",
       "  <thead>\n",
       "    <tr style=\"text-align: right;\">\n",
       "      <th></th>\n",
       "      <th>idx</th>\n",
       "      <th>device</th>\n",
       "      <th>sensor</th>\n",
       "      <th>m</th>\n",
       "      <th>t</th>\n",
       "    </tr>\n",
       "  </thead>\n",
       "  <tbody>\n",
       "    <tr>\n",
       "      <th>18</th>\n",
       "      <td>159242</td>\n",
       "      <td>m5atom/esp32/cfl001</td>\n",
       "      <td>grove/i2c/pmsa003i/pm25env</td>\n",
       "      <td>3.0</td>\n",
       "      <td>1744650076</td>\n",
       "    </tr>\n",
       "    <tr>\n",
       "      <th>19</th>\n",
       "      <td>159243</td>\n",
       "      <td>m5atom/esp32/cfl001</td>\n",
       "      <td>grove/i2c/pmsa003i/pm25env</td>\n",
       "      <td>3.0</td>\n",
       "      <td>1744650076</td>\n",
       "    </tr>\n",
       "    <tr>\n",
       "      <th>44</th>\n",
       "      <td>159334</td>\n",
       "      <td>m5atom/esp32/cfl001</td>\n",
       "      <td>grove/i2c/pmsa003i/pm25env</td>\n",
       "      <td>2.0</td>\n",
       "      <td>1744650159</td>\n",
       "    </tr>\n",
       "    <tr>\n",
       "      <th>45</th>\n",
       "      <td>159335</td>\n",
       "      <td>m5atom/esp32/cfl001</td>\n",
       "      <td>grove/i2c/pmsa003i/pm25env</td>\n",
       "      <td>2.0</td>\n",
       "      <td>1744650159</td>\n",
       "    </tr>\n",
       "    <tr>\n",
       "      <th>68</th>\n",
       "      <td>159472</td>\n",
       "      <td>m5atom/esp32/cfl001</td>\n",
       "      <td>grove/i2c/pmsa003i/pm25env</td>\n",
       "      <td>4.0</td>\n",
       "      <td>1744650242</td>\n",
       "    </tr>\n",
       "    <tr>\n",
       "      <th>...</th>\n",
       "      <td>...</td>\n",
       "      <td>...</td>\n",
       "      <td>...</td>\n",
       "      <td>...</td>\n",
       "      <td>...</td>\n",
       "    </tr>\n",
       "    <tr>\n",
       "      <th>5383</th>\n",
       "      <td>198284</td>\n",
       "      <td>m5atom/esp32/cfl001</td>\n",
       "      <td>grove/i2c/pmsa003i/pm25env</td>\n",
       "      <td>6.0</td>\n",
       "      <td>1744681681</td>\n",
       "    </tr>\n",
       "    <tr>\n",
       "      <th>5408</th>\n",
       "      <td>198383</td>\n",
       "      <td>m5atom/esp32/cfl001</td>\n",
       "      <td>grove/i2c/pmsa003i/pm25env</td>\n",
       "      <td>5.0</td>\n",
       "      <td>1744681762</td>\n",
       "    </tr>\n",
       "    <tr>\n",
       "      <th>5409</th>\n",
       "      <td>198384</td>\n",
       "      <td>m5atom/esp32/cfl001</td>\n",
       "      <td>grove/i2c/pmsa003i/pm25env</td>\n",
       "      <td>5.0</td>\n",
       "      <td>1744681762</td>\n",
       "    </tr>\n",
       "    <tr>\n",
       "      <th>5436</th>\n",
       "      <td>198455</td>\n",
       "      <td>m5atom/esp32/cfl001</td>\n",
       "      <td>grove/i2c/pmsa003i/pm25env</td>\n",
       "      <td>6.0</td>\n",
       "      <td>1744681844</td>\n",
       "    </tr>\n",
       "    <tr>\n",
       "      <th>5437</th>\n",
       "      <td>198456</td>\n",
       "      <td>m5atom/esp32/cfl001</td>\n",
       "      <td>grove/i2c/pmsa003i/pm25env</td>\n",
       "      <td>6.0</td>\n",
       "      <td>1744681844</td>\n",
       "    </tr>\n",
       "  </tbody>\n",
       "</table>\n",
       "<p>496 rows × 5 columns</p>\n",
       "</div>"
      ],
      "text/plain": [
       "         idx               device                      sensor    m           t\n",
       "18    159242  m5atom/esp32/cfl001  grove/i2c/pmsa003i/pm25env  3.0  1744650076\n",
       "19    159243  m5atom/esp32/cfl001  grove/i2c/pmsa003i/pm25env  3.0  1744650076\n",
       "44    159334  m5atom/esp32/cfl001  grove/i2c/pmsa003i/pm25env  2.0  1744650159\n",
       "45    159335  m5atom/esp32/cfl001  grove/i2c/pmsa003i/pm25env  2.0  1744650159\n",
       "68    159472  m5atom/esp32/cfl001  grove/i2c/pmsa003i/pm25env  4.0  1744650242\n",
       "...      ...                  ...                         ...  ...         ...\n",
       "5383  198284  m5atom/esp32/cfl001  grove/i2c/pmsa003i/pm25env  6.0  1744681681\n",
       "5408  198383  m5atom/esp32/cfl001  grove/i2c/pmsa003i/pm25env  5.0  1744681762\n",
       "5409  198384  m5atom/esp32/cfl001  grove/i2c/pmsa003i/pm25env  5.0  1744681762\n",
       "5436  198455  m5atom/esp32/cfl001  grove/i2c/pmsa003i/pm25env  6.0  1744681844\n",
       "5437  198456  m5atom/esp32/cfl001  grove/i2c/pmsa003i/pm25env  6.0  1744681844\n",
       "\n",
       "[496 rows x 5 columns]"
      ]
     },
     "execution_count": 10,
     "metadata": {},
     "output_type": "execute_result"
    }
   ],
   "source": [
    "df.iloc[:].query(\"sensor.str.contains('pm25env')\") "
   ]
  },
  {
   "cell_type": "markdown",
   "id": "b5ffdbc6-4ab8-43c4-b4bd-28c1132c9948",
   "metadata": {},
   "source": [
    "### Set the index to the date/time"
   ]
  },
  {
   "cell_type": "code",
   "execution_count": 11,
   "id": "e678a9cf-735e-4d85-9bbb-8687f27f2a71",
   "metadata": {},
   "outputs": [],
   "source": [
    "df['date'] = pd.to_datetime(df['t'], unit='s')"
   ]
  },
  {
   "cell_type": "markdown",
   "id": "1865f19c-ef0b-470e-b111-8984ad82f367",
   "metadata": {},
   "source": [
    "Notice the new column `date` is how we want!"
   ]
  },
  {
   "cell_type": "code",
   "execution_count": 12,
   "id": "9b2b4f76-3695-4c9e-9724-3446f5a558fe",
   "metadata": {},
   "outputs": [
    {
     "data": {
      "text/html": [
       "<div>\n",
       "<style scoped>\n",
       "    .dataframe tbody tr th:only-of-type {\n",
       "        vertical-align: middle;\n",
       "    }\n",
       "\n",
       "    .dataframe tbody tr th {\n",
       "        vertical-align: top;\n",
       "    }\n",
       "\n",
       "    .dataframe thead th {\n",
       "        text-align: right;\n",
       "    }\n",
       "</style>\n",
       "<table border=\"1\" class=\"dataframe\">\n",
       "  <thead>\n",
       "    <tr style=\"text-align: right;\">\n",
       "      <th></th>\n",
       "      <th>idx</th>\n",
       "      <th>device</th>\n",
       "      <th>sensor</th>\n",
       "      <th>m</th>\n",
       "      <th>t</th>\n",
       "      <th>date</th>\n",
       "    </tr>\n",
       "  </thead>\n",
       "  <tbody>\n",
       "    <tr>\n",
       "      <th>0</th>\n",
       "      <td>158812</td>\n",
       "      <td>m5atom/esp32/cfl001</td>\n",
       "      <td>grove/i2c/pmsa003i/pm10standard</td>\n",
       "      <td>2.0</td>\n",
       "      <td>1744649659</td>\n",
       "      <td>2025-04-14 16:54:19</td>\n",
       "    </tr>\n",
       "    <tr>\n",
       "      <th>1</th>\n",
       "      <td>158813</td>\n",
       "      <td>m5atom/esp32/cfl001</td>\n",
       "      <td>grove/i2c/pmsa003i/pm10standard</td>\n",
       "      <td>2.0</td>\n",
       "      <td>1744649659</td>\n",
       "      <td>2025-04-14 16:54:19</td>\n",
       "    </tr>\n",
       "    <tr>\n",
       "      <th>2</th>\n",
       "      <td>158814</td>\n",
       "      <td>m5atom/esp32/cfl001</td>\n",
       "      <td>grove/i2c/pmsa003i/pm25standard</td>\n",
       "      <td>2.0</td>\n",
       "      <td>1744649660</td>\n",
       "      <td>2025-04-14 16:54:20</td>\n",
       "    </tr>\n",
       "    <tr>\n",
       "      <th>3</th>\n",
       "      <td>158815</td>\n",
       "      <td>m5atom/esp32/cfl001</td>\n",
       "      <td>grove/i2c/pmsa003i/pm25standard</td>\n",
       "      <td>2.0</td>\n",
       "      <td>1744649660</td>\n",
       "      <td>2025-04-14 16:54:20</td>\n",
       "    </tr>\n",
       "    <tr>\n",
       "      <th>4</th>\n",
       "      <td>158870</td>\n",
       "      <td>m5atom/esp32/cfl001</td>\n",
       "      <td>grove/i2c/pmsa003i/pm10standard</td>\n",
       "      <td>2.0</td>\n",
       "      <td>1744649742</td>\n",
       "      <td>2025-04-14 16:55:42</td>\n",
       "    </tr>\n",
       "  </tbody>\n",
       "</table>\n",
       "</div>"
      ],
      "text/plain": [
       "      idx               device                           sensor    m  \\\n",
       "0  158812  m5atom/esp32/cfl001  grove/i2c/pmsa003i/pm10standard  2.0   \n",
       "1  158813  m5atom/esp32/cfl001  grove/i2c/pmsa003i/pm10standard  2.0   \n",
       "2  158814  m5atom/esp32/cfl001  grove/i2c/pmsa003i/pm25standard  2.0   \n",
       "3  158815  m5atom/esp32/cfl001  grove/i2c/pmsa003i/pm25standard  2.0   \n",
       "4  158870  m5atom/esp32/cfl001  grove/i2c/pmsa003i/pm10standard  2.0   \n",
       "\n",
       "            t                date  \n",
       "0  1744649659 2025-04-14 16:54:19  \n",
       "1  1744649659 2025-04-14 16:54:19  \n",
       "2  1744649660 2025-04-14 16:54:20  \n",
       "3  1744649660 2025-04-14 16:54:20  \n",
       "4  1744649742 2025-04-14 16:55:42  "
      ]
     },
     "execution_count": 12,
     "metadata": {},
     "output_type": "execute_result"
    }
   ],
   "source": [
    "df.head()"
   ]
  },
  {
   "cell_type": "markdown",
   "id": "a5f3e265-eb9d-43f1-8f62-0fff20f1915e",
   "metadata": {},
   "source": [
    "We can set the index to the `date` column."
   ]
  },
  {
   "cell_type": "code",
   "execution_count": 13,
   "id": "ee9d3c53-7011-4024-b79a-20aee3165933",
   "metadata": {},
   "outputs": [],
   "source": [
    "df.index = df.date"
   ]
  },
  {
   "cell_type": "code",
   "execution_count": 14,
   "id": "d5102995-419b-42c6-9ff1-b86fe0d989fc",
   "metadata": {},
   "outputs": [
    {
     "data": {
      "text/html": [
       "<div>\n",
       "<style scoped>\n",
       "    .dataframe tbody tr th:only-of-type {\n",
       "        vertical-align: middle;\n",
       "    }\n",
       "\n",
       "    .dataframe tbody tr th {\n",
       "        vertical-align: top;\n",
       "    }\n",
       "\n",
       "    .dataframe thead th {\n",
       "        text-align: right;\n",
       "    }\n",
       "</style>\n",
       "<table border=\"1\" class=\"dataframe\">\n",
       "  <thead>\n",
       "    <tr style=\"text-align: right;\">\n",
       "      <th></th>\n",
       "      <th>idx</th>\n",
       "      <th>device</th>\n",
       "      <th>sensor</th>\n",
       "      <th>m</th>\n",
       "      <th>t</th>\n",
       "      <th>date</th>\n",
       "    </tr>\n",
       "    <tr>\n",
       "      <th>date</th>\n",
       "      <th></th>\n",
       "      <th></th>\n",
       "      <th></th>\n",
       "      <th></th>\n",
       "      <th></th>\n",
       "      <th></th>\n",
       "    </tr>\n",
       "  </thead>\n",
       "  <tbody>\n",
       "    <tr>\n",
       "      <th>2025-04-14 16:54:19</th>\n",
       "      <td>158812</td>\n",
       "      <td>m5atom/esp32/cfl001</td>\n",
       "      <td>grove/i2c/pmsa003i/pm10standard</td>\n",
       "      <td>2.0</td>\n",
       "      <td>1744649659</td>\n",
       "      <td>2025-04-14 16:54:19</td>\n",
       "    </tr>\n",
       "    <tr>\n",
       "      <th>2025-04-14 16:54:19</th>\n",
       "      <td>158813</td>\n",
       "      <td>m5atom/esp32/cfl001</td>\n",
       "      <td>grove/i2c/pmsa003i/pm10standard</td>\n",
       "      <td>2.0</td>\n",
       "      <td>1744649659</td>\n",
       "      <td>2025-04-14 16:54:19</td>\n",
       "    </tr>\n",
       "    <tr>\n",
       "      <th>2025-04-14 16:54:20</th>\n",
       "      <td>158814</td>\n",
       "      <td>m5atom/esp32/cfl001</td>\n",
       "      <td>grove/i2c/pmsa003i/pm25standard</td>\n",
       "      <td>2.0</td>\n",
       "      <td>1744649660</td>\n",
       "      <td>2025-04-14 16:54:20</td>\n",
       "    </tr>\n",
       "    <tr>\n",
       "      <th>2025-04-14 16:54:20</th>\n",
       "      <td>158815</td>\n",
       "      <td>m5atom/esp32/cfl001</td>\n",
       "      <td>grove/i2c/pmsa003i/pm25standard</td>\n",
       "      <td>2.0</td>\n",
       "      <td>1744649660</td>\n",
       "      <td>2025-04-14 16:54:20</td>\n",
       "    </tr>\n",
       "    <tr>\n",
       "      <th>2025-04-14 16:55:42</th>\n",
       "      <td>158870</td>\n",
       "      <td>m5atom/esp32/cfl001</td>\n",
       "      <td>grove/i2c/pmsa003i/pm10standard</td>\n",
       "      <td>2.0</td>\n",
       "      <td>1744649742</td>\n",
       "      <td>2025-04-14 16:55:42</td>\n",
       "    </tr>\n",
       "  </tbody>\n",
       "</table>\n",
       "</div>"
      ],
      "text/plain": [
       "                        idx               device  \\\n",
       "date                                               \n",
       "2025-04-14 16:54:19  158812  m5atom/esp32/cfl001   \n",
       "2025-04-14 16:54:19  158813  m5atom/esp32/cfl001   \n",
       "2025-04-14 16:54:20  158814  m5atom/esp32/cfl001   \n",
       "2025-04-14 16:54:20  158815  m5atom/esp32/cfl001   \n",
       "2025-04-14 16:55:42  158870  m5atom/esp32/cfl001   \n",
       "\n",
       "                                              sensor    m           t  \\\n",
       "date                                                                    \n",
       "2025-04-14 16:54:19  grove/i2c/pmsa003i/pm10standard  2.0  1744649659   \n",
       "2025-04-14 16:54:19  grove/i2c/pmsa003i/pm10standard  2.0  1744649659   \n",
       "2025-04-14 16:54:20  grove/i2c/pmsa003i/pm25standard  2.0  1744649660   \n",
       "2025-04-14 16:54:20  grove/i2c/pmsa003i/pm25standard  2.0  1744649660   \n",
       "2025-04-14 16:55:42  grove/i2c/pmsa003i/pm10standard  2.0  1744649742   \n",
       "\n",
       "                                   date  \n",
       "date                                     \n",
       "2025-04-14 16:54:19 2025-04-14 16:54:19  \n",
       "2025-04-14 16:54:19 2025-04-14 16:54:19  \n",
       "2025-04-14 16:54:20 2025-04-14 16:54:20  \n",
       "2025-04-14 16:54:20 2025-04-14 16:54:20  \n",
       "2025-04-14 16:55:42 2025-04-14 16:55:42  "
      ]
     },
     "execution_count": 14,
     "metadata": {},
     "output_type": "execute_result"
    }
   ],
   "source": [
    "df.head()"
   ]
  },
  {
   "cell_type": "markdown",
   "id": "3f3bf12c-2053-4c0c-8b25-5b80620c2722",
   "metadata": {},
   "source": [
    "Now we can clean everything up by removing columns, filtering and sorting."
   ]
  },
  {
   "cell_type": "code",
   "execution_count": 15,
   "id": "db0e9169-7c09-4a6a-a534-e89ee0de95f6",
   "metadata": {},
   "outputs": [
    {
     "data": {
      "text/html": [
       "<div>\n",
       "<style scoped>\n",
       "    .dataframe tbody tr th:only-of-type {\n",
       "        vertical-align: middle;\n",
       "    }\n",
       "\n",
       "    .dataframe tbody tr th {\n",
       "        vertical-align: top;\n",
       "    }\n",
       "\n",
       "    .dataframe thead th {\n",
       "        text-align: right;\n",
       "    }\n",
       "</style>\n",
       "<table border=\"1\" class=\"dataframe\">\n",
       "  <thead>\n",
       "    <tr style=\"text-align: right;\">\n",
       "      <th></th>\n",
       "      <th>sensor</th>\n",
       "      <th>m</th>\n",
       "    </tr>\n",
       "    <tr>\n",
       "      <th>date</th>\n",
       "      <th></th>\n",
       "      <th></th>\n",
       "    </tr>\n",
       "  </thead>\n",
       "  <tbody>\n",
       "    <tr>\n",
       "      <th>2025-04-14 17:01:16</th>\n",
       "      <td>grove/i2c/pmsa003i/pm25env</td>\n",
       "      <td>3.0</td>\n",
       "    </tr>\n",
       "    <tr>\n",
       "      <th>2025-04-14 17:01:16</th>\n",
       "      <td>grove/i2c/pmsa003i/pm25env</td>\n",
       "      <td>3.0</td>\n",
       "    </tr>\n",
       "    <tr>\n",
       "      <th>2025-04-14 17:02:39</th>\n",
       "      <td>grove/i2c/pmsa003i/pm25env</td>\n",
       "      <td>2.0</td>\n",
       "    </tr>\n",
       "    <tr>\n",
       "      <th>2025-04-14 17:02:39</th>\n",
       "      <td>grove/i2c/pmsa003i/pm25env</td>\n",
       "      <td>2.0</td>\n",
       "    </tr>\n",
       "    <tr>\n",
       "      <th>2025-04-14 17:04:02</th>\n",
       "      <td>grove/i2c/pmsa003i/pm25env</td>\n",
       "      <td>4.0</td>\n",
       "    </tr>\n",
       "    <tr>\n",
       "      <th>...</th>\n",
       "      <td>...</td>\n",
       "      <td>...</td>\n",
       "    </tr>\n",
       "    <tr>\n",
       "      <th>2025-04-15 01:48:01</th>\n",
       "      <td>grove/i2c/pmsa003i/pm25env</td>\n",
       "      <td>6.0</td>\n",
       "    </tr>\n",
       "    <tr>\n",
       "      <th>2025-04-15 01:49:22</th>\n",
       "      <td>grove/i2c/pmsa003i/pm25env</td>\n",
       "      <td>5.0</td>\n",
       "    </tr>\n",
       "    <tr>\n",
       "      <th>2025-04-15 01:49:22</th>\n",
       "      <td>grove/i2c/pmsa003i/pm25env</td>\n",
       "      <td>5.0</td>\n",
       "    </tr>\n",
       "    <tr>\n",
       "      <th>2025-04-15 01:50:44</th>\n",
       "      <td>grove/i2c/pmsa003i/pm25env</td>\n",
       "      <td>6.0</td>\n",
       "    </tr>\n",
       "    <tr>\n",
       "      <th>2025-04-15 01:50:44</th>\n",
       "      <td>grove/i2c/pmsa003i/pm25env</td>\n",
       "      <td>6.0</td>\n",
       "    </tr>\n",
       "  </tbody>\n",
       "</table>\n",
       "<p>496 rows × 2 columns</p>\n",
       "</div>"
      ],
      "text/plain": [
       "                                         sensor    m\n",
       "date                                                \n",
       "2025-04-14 17:01:16  grove/i2c/pmsa003i/pm25env  3.0\n",
       "2025-04-14 17:01:16  grove/i2c/pmsa003i/pm25env  3.0\n",
       "2025-04-14 17:02:39  grove/i2c/pmsa003i/pm25env  2.0\n",
       "2025-04-14 17:02:39  grove/i2c/pmsa003i/pm25env  2.0\n",
       "2025-04-14 17:04:02  grove/i2c/pmsa003i/pm25env  4.0\n",
       "...                                         ...  ...\n",
       "2025-04-15 01:48:01  grove/i2c/pmsa003i/pm25env  6.0\n",
       "2025-04-15 01:49:22  grove/i2c/pmsa003i/pm25env  5.0\n",
       "2025-04-15 01:49:22  grove/i2c/pmsa003i/pm25env  5.0\n",
       "2025-04-15 01:50:44  grove/i2c/pmsa003i/pm25env  6.0\n",
       "2025-04-15 01:50:44  grove/i2c/pmsa003i/pm25env  6.0\n",
       "\n",
       "[496 rows x 2 columns]"
      ]
     },
     "execution_count": 15,
     "metadata": {},
     "output_type": "execute_result"
    }
   ],
   "source": [
    "df.drop(['idx', 'device', 't', 'date'], axis=1).query(\"sensor.str.contains('pm25env').values\").sort_index()"
   ]
  },
  {
   "cell_type": "markdown",
   "id": "1f64cc9e-ab1e-402d-a699-eb95244aacd0",
   "metadata": {},
   "source": [
    "**REMEMBER:** store the data in the new Dataframe like so:\n",
    "\n",
    "```python\n",
    "df_filtered = df.iloc[:].query(\"sensor.str.contains('pm25env')\") \n",
    "\n",
    "```"
   ]
  },
  {
   "cell_type": "markdown",
   "id": "056fd712-b679-45ce-80b3-50cfe153ddd1",
   "metadata": {},
   "source": [
    "**&#167; Task:**  **Store the data in a new CSV files.**\n",
    "\n",
    "* study the [`pandas.DataFrame.to_csv()`](https://pandas.pydata.org/pandas-docs/stable/reference/api/pandas.DataFrame.to_csv.html) function\n",
    "* name the cleaned up complete file: `cflXXX_clean.csv`\n",
    "* name the filtered file: `cflXXX_filtered.csv`"
   ]
  },
  {
   "cell_type": "markdown",
   "id": "ecb91450-865a-460d-862f-4eeb150ec9b9",
   "metadata": {},
   "source": [
    "# PART III:  (30%) Practice using Pandas for data analysis. \n"
   ]
  },
  {
   "cell_type": "markdown",
   "id": "28b17122-76ef-425e-959a-262fc3dc1cb7",
   "metadata": {},
   "source": [
    "**&#167; Task:**  **Find the mean, median, minimum and maximum PM25 ENV values.**\n",
    "\n",
    "Study:\n",
    "\n",
    "* [`pandas.Dataframe.describe()`](https://pandas.pydata.org/pandas-docs/stable/reference/api/pandas.DataFrame.describe.html)"
   ]
  },
  {
   "cell_type": "code",
   "execution_count": 16,
   "id": "a5dedffe-ee2c-4ea5-9a49-c2f6ae4953ed",
   "metadata": {},
   "outputs": [
    {
     "data": {
      "text/html": [
       "<div>\n",
       "<style scoped>\n",
       "    .dataframe tbody tr th:only-of-type {\n",
       "        vertical-align: middle;\n",
       "    }\n",
       "\n",
       "    .dataframe tbody tr th {\n",
       "        vertical-align: top;\n",
       "    }\n",
       "\n",
       "    .dataframe thead th {\n",
       "        text-align: right;\n",
       "    }\n",
       "</style>\n",
       "<table border=\"1\" class=\"dataframe\">\n",
       "  <thead>\n",
       "    <tr style=\"text-align: right;\">\n",
       "      <th></th>\n",
       "      <th>idx</th>\n",
       "      <th>m</th>\n",
       "      <th>t</th>\n",
       "      <th>date</th>\n",
       "    </tr>\n",
       "  </thead>\n",
       "  <tbody>\n",
       "    <tr>\n",
       "      <th>count</th>\n",
       "      <td>5.000000</td>\n",
       "      <td>5.0</td>\n",
       "      <td>5.000000e+00</td>\n",
       "      <td>5</td>\n",
       "    </tr>\n",
       "    <tr>\n",
       "      <th>mean</th>\n",
       "      <td>158824.800000</td>\n",
       "      <td>2.0</td>\n",
       "      <td>1.744650e+09</td>\n",
       "      <td>2025-04-14 16:54:36</td>\n",
       "    </tr>\n",
       "    <tr>\n",
       "      <th>min</th>\n",
       "      <td>158812.000000</td>\n",
       "      <td>2.0</td>\n",
       "      <td>1.744650e+09</td>\n",
       "      <td>2025-04-14 16:54:19</td>\n",
       "    </tr>\n",
       "    <tr>\n",
       "      <th>25%</th>\n",
       "      <td>158813.000000</td>\n",
       "      <td>2.0</td>\n",
       "      <td>1.744650e+09</td>\n",
       "      <td>2025-04-14 16:54:19</td>\n",
       "    </tr>\n",
       "    <tr>\n",
       "      <th>50%</th>\n",
       "      <td>158814.000000</td>\n",
       "      <td>2.0</td>\n",
       "      <td>1.744650e+09</td>\n",
       "      <td>2025-04-14 16:54:20</td>\n",
       "    </tr>\n",
       "    <tr>\n",
       "      <th>75%</th>\n",
       "      <td>158815.000000</td>\n",
       "      <td>2.0</td>\n",
       "      <td>1.744650e+09</td>\n",
       "      <td>2025-04-14 16:54:20</td>\n",
       "    </tr>\n",
       "    <tr>\n",
       "      <th>max</th>\n",
       "      <td>158870.000000</td>\n",
       "      <td>2.0</td>\n",
       "      <td>1.744650e+09</td>\n",
       "      <td>2025-04-14 16:55:42</td>\n",
       "    </tr>\n",
       "    <tr>\n",
       "      <th>std</th>\n",
       "      <td>25.292291</td>\n",
       "      <td>0.0</td>\n",
       "      <td>3.689851e+01</td>\n",
       "      <td>NaN</td>\n",
       "    </tr>\n",
       "  </tbody>\n",
       "</table>\n",
       "</div>"
      ],
      "text/plain": [
       "                 idx    m             t                 date\n",
       "count       5.000000  5.0  5.000000e+00                    5\n",
       "mean   158824.800000  2.0  1.744650e+09  2025-04-14 16:54:36\n",
       "min    158812.000000  2.0  1.744650e+09  2025-04-14 16:54:19\n",
       "25%    158813.000000  2.0  1.744650e+09  2025-04-14 16:54:19\n",
       "50%    158814.000000  2.0  1.744650e+09  2025-04-14 16:54:20\n",
       "75%    158815.000000  2.0  1.744650e+09  2025-04-14 16:54:20\n",
       "max    158870.000000  2.0  1.744650e+09  2025-04-14 16:55:42\n",
       "std        25.292291  0.0  3.689851e+01                  NaN"
      ]
     },
     "execution_count": 16,
     "metadata": {},
     "output_type": "execute_result"
    }
   ],
   "source": [
    "df.iloc[:5].describe()  ## NOTE THIS IS ONLY THE STATS FOR THE FIRST 5 ROWS!!! YOU WILL NEED TO DO THE WHOLE DATAFRAME"
   ]
  },
  {
   "cell_type": "markdown",
   "id": "401d4166-32a3-47cd-bae1-0ec368d8471a",
   "metadata": {},
   "source": [
    "**&#167; Task:**  **Identify when the maximum and minimum PM25 values occurred for each day separately.**\n",
    "\n",
    "Study:\n",
    "\n",
    "* [`pandas.Dataframe.groupby()`](https://pandas.pydata.org/pandas-docs/stable/reference/api/pandas.DataFrame.groupby.html): you will need to group by day (see the example in the starter NB)\n",
    "* notice how easy it is to use the datetime index with `groupby`"
   ]
  },
  {
   "cell_type": "markdown",
   "id": "42e5a73e-0348-4e96-818c-2b24fe423d7d",
   "metadata": {},
   "source": [
    "### Example"
   ]
  },
  {
   "cell_type": "code",
   "execution_count": 17,
   "id": "bfa1ba5b-8eb8-4f37-bc7b-2ee671243f25",
   "metadata": {},
   "outputs": [
    {
     "data": {
      "text/plain": [
       "date\n",
       "14    3.315534\n",
       "15    5.809524\n",
       "Name: m, dtype: float64"
      ]
     },
     "execution_count": 17,
     "metadata": {},
     "output_type": "execute_result"
    }
   ],
   "source": [
    "df_filtered = df.query(\"sensor.str.contains('pm25env').values\")\n",
    "df_filtered.groupby(df_filtered.date.dt.day)['m'].mean()"
   ]
  },
  {
   "cell_type": "markdown",
   "id": "d091a16c-e252-48c1-81e8-ac0ae0c9db37",
   "metadata": {},
   "source": [
    "**&#167; Task:**  **Plot  the PM25  data in a line plot.**\n",
    "\n",
    "Study:\n",
    "\n",
    "* [`pandas.Dataframe.plot.line()`](https://pandas.pydata.org/pandas-docs/stable/reference/api/pandas.DataFrame.plot.line.html)"
   ]
  },
  {
   "cell_type": "code",
   "execution_count": 18,
   "id": "2604f6f0-ab2d-4938-ad49-15e1b2af69b4",
   "metadata": {},
   "outputs": [
    {
     "data": {
      "text/plain": [
       "<Axes: xlabel='date'>"
      ]
     },
     "execution_count": 18,
     "metadata": {},
     "output_type": "execute_result"
    },
    {
     "data": {
      "image/png": "[encoded data removed]",
      "text/plain": [
       "<Figure size 640x480 with 1 Axes>"
      ]
     },
     "metadata": {},
     "output_type": "display_data"
    }
   ],
   "source": [
    "df.query(\"sensor.str.contains('pm25env').values\")['m'].plot()"
   ]
  },
  {
   "cell_type": "markdown",
   "id": "56412f51-aa46-43dd-9fca-48bd148e810b",
   "metadata": {},
   "source": [
    "**&#167; Task:**  **Make a statement about your plot, noting the pattern you see.  Keep your statement to \n",
    "  less than 3 sentences.**"
   ]
  },
  {
   "cell_type": "code",
   "execution_count": null,
   "id": "9d56b696-950c-49fa-8369-74b1ebd61195",
   "metadata": {},
   "outputs": [],
   "source": []
  }
 ],
 "metadata": {
  "kernelspec": {
   "display_name": "Python 3 (ipykernel)",
   "language": "python",
   "name": "python3"
  },
  "language_info": {
   "codemirror_mode": {
    "name": "ipython",
    "version": 3
   },
   "file_extension": ".py",
   "mimetype": "text/x-python",
   "name": "python",
   "nbconvert_exporter": "python",
   "pygments_lexer": "ipython3",
   "version": "3.12.6"
  }
 },
 "nbformat": 4,
 "nbformat_minor": 5
}
